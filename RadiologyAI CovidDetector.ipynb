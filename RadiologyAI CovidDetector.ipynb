{
  "nbformat": 4,
  "nbformat_minor": 0,
  "metadata": {
    "colab": {
      "provenance": [],
      "machine_shape": "hm"
    },
    "kernelspec": {
      "display_name": "Python 3",
      "name": "python3"
    },
    "language_info": {
      "name": "python"
    },
    "accelerator": "GPU"
  },
  "cells": [
    {
      "cell_type": "markdown",
      "metadata": {
        "id": "Ihfd9LJNY7XP"
      },
      "source": [
        "<h1>Overview</h1>\n",
        "\n",
        "Chest X-Rays have had a massive role in detecting Covid-19 in an individual. Considering how the disease has affected us, we will create a Deep-Learning model as the first level of self-diagnosis. It will classify the Chest XRay image into COVID, Pneumonia, or a healthy lung (i.e., no diseases found).\n",
        "\n",
        "This implementation classifies the Chest XRay image as Pneumonia or a healthy lung. Use this as a reference, and create a multiclass classification model, classifying the images into Covid-19, Pneumonia, or normal healthy lung.\n",
        "\n",
        "We will build this model in Python, using TensorFlow Keras.\n",
        "\n",
        "<h1>Problem Statement</h1>\n",
        "\n",
        "This implementation is ridiculed with errors. The model accuracy is low, and the predictions are incorrect. Moreover, the dataset needs to be updated for three-class classification and trained accordingly. It is recommended that you change the model.\n",
        "\n",
        "<h1>Datasets</h1>\n",
        "\n",
        "This notebook is implemented on Pneumonia and normal images. We've taken the dataset from https://www.kaggle.com/paultimothymooney/chest-xray-pneumonia, and hosted it on [dropbox](https://www.dropbox.com/s/oq0apzpkgql5rgo/Chest_X_ray%28Pneumonia%29.zip?dl=1) for easy access.<br>Ref: Kermany, Daniel; Zhang, Kang; Goldbaum, Michael (2018), \"Labeled Optical Coherence Tomography (OCT) and Chest X-Ray Images for Classification\", Mendeley Data, V2, doi: 10.17632/rscbjbr9sj.2\n",
        "\n",
        "For the submission, we are combining the datasets from multiple locations. You can find the individual datasets here:\n",
        "\n",
        "1. Kermany, Daniel; Zhang, Kang; Goldbaum, Michael (2018), \"Labeled Optical Coherence Tomography (OCT) and Chest X-Ray Images for Classification\", Mendeley Data, V2, doi: 10.17632/rscbjbr9sj.2\n",
        "2. [COVID19_Pneumonia_Normal_Chest_Xray_PA_Dataset](https://www.kaggle.com/amanullahasraf/covid19-pneumonia-normal-chest-xray-pa-dataset)\n",
        "3. * M.E.H. Chowdhury, T. Rahman, A. Khandakar, R. Mazhar, M.A. Kadir, Z.B. Mahbub, K.R. Islam, M.S. Khan, A. Iqbal, N. Al-Emadi, M.B.I. Reaz, M. T. Islam, \"Can AI help in screening Viral and COVID-19 pneumonia?\" IEEE Access, Vol. 8, 2020, pp. 132665 - 132676. [Paper link](https://ieeexplore.ieee.org/document/9144185)\n",
        "   * Rahman, T., Khandakar, A., Qiblawey, Y., Tahir, A., Kiranyaz, S., Kashem, S.B.A., Islam, M.T., Maadeed, S.A., Zughaier, S.M., Khan, M.S. and Chowdhury, M.E., 2020. Exploring the Effect of Image Enhancement Techniques on COVID-19 Detection using Chest X-ray Images. [Paper Link](https://doi.org/10.1016/j.compbiomed.2021.104319)\n",
        "\n",
        "We have combined and prepared the dataset already. You can download it from the following dropbox link: https://www.dropbox.com/s/73s9n7nugqrv1h7/Dataset.zip?dl=1\n",
        "\n",
        "Dataset contains 3 folders, namely:\n",
        "* <b>Covid</b>: This folder contains lung x-ray images with covid-19 disease\n",
        "* <b>Pneumonia</b>: This folder contains lung x-ray images with pneumonia disease\n",
        "* <b>Normal</b>: This folder contains normal functioning and healthy lung x-ray images\n",
        "\n",
        "<h1>Tasks</h1>\n",
        "\n",
        "<b>1. Train a pre-trained convolution neural network</b>\n",
        "\n",
        "Steps to approach this task:\n",
        "\n",
        "1. Save a copy of this notebook to your drive. Make sure to select \"GPU\" as the Hardware accelerator in the runtime option by going to <b>Runtime → Change runtime type → Hardware accelerator → GPU</b>.\n",
        "2. Update the `wget` command to download the new data. Then, `unzip` the dataset. Set the dataset_path accordingly. Set a fixed <b>seed</b> to make splits reproducible.\n",
        "3. Use [ImageDataGenerator’s](https://keras.io/api/preprocessing/image/) `flow_from_directory()` method for augmentation and loading of the train and validation splits. Data augmentation is optional, but if you use it, make sure you have the proper logic/explanation behind the augmentation that you apply.\n",
        "4. Normalise the input using the `rescale` parameter of `ImageDataGenerator`. Data normalisation is an important step that ensures that each input pixel has a similar data distribution.\n",
        "5. Use transfer learning to train the model. Select and initialise a model from [this list](https://www.tensorflow.org/api_docs/python/tf/keras/applications). Keep the imagenet weights.\n",
        "6. Add (at least) one custom `Dense` layer with `softmax` activation. After building your model, you will compile it and use accuracy as a metric.\n",
        "7. Add your desired callbacks which will help you during the training.\n",
        "8. Now, you can start with the training.\n",
        "9. This is a medical imaging project; hence 95% accuracy is expected. That is the benchmark for the project.\n",
        "10. Plot the loss and accuracy graphs using matplotlib or seaborn.\n",
        "11. Test your model on the test set provided. Generate the classification report and the confusion matrix for the same.\n",
        "\n",
        "<b>2. Test the model on an external test dataset</b>\n",
        "\n",
        "After you are satisfied with your model, head on to [this link](https://opencv-ai-courses-radiologyai.streamlit.app/). Upload your best model here, and get the evaluation results. The size limit to upload the model is 700MB.\n",
        "\n",
        "![model-evaluation](http://courses.opencv.org/asset-v1:OpenCV+OpenCV-105+2019_T1+type@asset+block@model-evaluation.png)\n",
        "\n",
        "<b>3. Video Explanation</b>\n",
        "\n",
        "Make a short video explaining the changes you made in the notebook. You can create an interview type of video, screen recording, or send a document for the explanation.\n",
        "\n",
        "<h1>Submission</h1>\n",
        "\n",
        "In the form, you need to fill the following fields:\n",
        "1. Colab notebook link\n",
        "2. Screenshot of the external test set evaluation\n",
        "3. Video/Text explanation\n",
        "\n",
        "<h1>Grading Rubric</h1>\n",
        "\n",
        "1. Train the image classifier <b>70 Marks</b>\n",
        "2. Test the model on an external test dataset <b>10 Marks</b>\n",
        "3. Code Explanation <b>20 Marks</b>"
      ]
    },
    {
      "cell_type": "code",
      "metadata": {
        "colab": {
          "base_uri": "https://localhost:8080/"
        },
        "id": "eyfNr36ZKESZ",
        "outputId": "2ba0f1d8-e743-4448-9523-8dd4a89d24b2"
      },
      "source": [
        "# Checking the GPU information\n",
        "\n",
        "!nvidia-smi"
      ],
      "execution_count": 1,
      "outputs": [
        {
          "output_type": "stream",
          "name": "stdout",
          "text": [
            "Sun Jan 28 02:02:29 2024       \n",
            "+---------------------------------------------------------------------------------------+\n",
            "| NVIDIA-SMI 535.104.05             Driver Version: 535.104.05   CUDA Version: 12.2     |\n",
            "|-----------------------------------------+----------------------+----------------------+\n",
            "| GPU  Name                 Persistence-M | Bus-Id        Disp.A | Volatile Uncorr. ECC |\n",
            "| Fan  Temp   Perf          Pwr:Usage/Cap |         Memory-Usage | GPU-Util  Compute M. |\n",
            "|                                         |                      |               MIG M. |\n",
            "|=========================================+======================+======================|\n",
            "|   0  Tesla T4                       Off | 00000000:00:04.0 Off |                    0 |\n",
            "| N/A   59C    P8              10W /  70W |      0MiB / 15360MiB |      0%      Default |\n",
            "|                                         |                      |                  N/A |\n",
            "+-----------------------------------------+----------------------+----------------------+\n",
            "                                                                                         \n",
            "+---------------------------------------------------------------------------------------+\n",
            "| Processes:                                                                            |\n",
            "|  GPU   GI   CI        PID   Type   Process name                            GPU Memory |\n",
            "|        ID   ID                                                             Usage      |\n",
            "|=======================================================================================|\n",
            "|  No running processes found                                                           |\n",
            "+---------------------------------------------------------------------------------------+\n"
          ]
        }
      ]
    },
    {
      "cell_type": "code",
      "metadata": {
        "id": "xVnGKasItWNk"
      },
      "source": [
        "# Importing required libraries\n",
        "\n",
        "import tensorflow as tf\n",
        "from tensorflow.keras.preprocessing.image import ImageDataGenerator\n",
        "tf.keras.backend.clear_session()\n",
        "from tensorflow.keras.layers import Input, Softmax, Dense, Dropout, BatchNormalization\n",
        "from tensorflow.keras.models import Model\n",
        "import numpy as np\n",
        "from sklearn.metrics import classification_report\n",
        "from sklearn.metrics import confusion_matrix"
      ],
      "execution_count": 2,
      "outputs": []
    },
    {
      "cell_type": "code",
      "metadata": {
        "id": "BfJ73zhh9YO8"
      },
      "source": [
        "# Mounting Google drive to save models, and etc.\n",
        "\n",
        "# from google.colab import drive\n",
        "# drive.mount('/content/drive')"
      ],
      "execution_count": null,
      "outputs": []
    },
    {
      "cell_type": "code",
      "metadata": {
        "id": "TrfYSDhjL20d",
        "colab": {
          "base_uri": "https://localhost:8080/"
        },
        "outputId": "5bc288ca-8c1c-4790-9430-a5df2015669e"
      },
      "source": [
        "# Downloading the Chest X-ray dataset\n",
        "\n",
        "#!wget https://www.dropbox.com/s/oq0apzpkgql5rgo/Chest_X_ray%28Pneumonia%29.zip?dl=1 -O 'archive.zip'\n",
        "!wget https://www.dropbox.com/s/73s9n7nugqrv1h7/Dataset.zip?dl=1 -O 'archive.zip'"
      ],
      "execution_count": 3,
      "outputs": [
        {
          "output_type": "stream",
          "name": "stdout",
          "text": [
            "--2024-01-28 02:03:28--  https://www.dropbox.com/s/73s9n7nugqrv1h7/Dataset.zip?dl=1\n",
            "Resolving www.dropbox.com (www.dropbox.com)... 162.125.2.18, 2620:100:6017:18::a27d:212\n",
            "Connecting to www.dropbox.com (www.dropbox.com)|162.125.2.18|:443... connected.\n",
            "HTTP request sent, awaiting response... 302 Found\n",
            "Location: /s/dl/73s9n7nugqrv1h7/Dataset.zip [following]\n",
            "--2024-01-28 02:03:28--  https://www.dropbox.com/s/dl/73s9n7nugqrv1h7/Dataset.zip\n",
            "Reusing existing connection to www.dropbox.com:443.\n",
            "HTTP request sent, awaiting response... 302 Found\n",
            "Location: https://uc108df17aac8f434f6832d3d455.dl.dropboxusercontent.com/cd/0/get/CMKcH_1fcdl83VjqYImadxaL927QXplwB1gfblPkTMOakgbdevIuCfLh9vQfDR_0g9S8JQxPqObdY1BDVCBSUw_BX7tQt7HDF2KAric-myJESqqXTWpYneFIWPfNCP2N1ciheX0-u1ibK2Kc1hcu10Qt/file?dl=1# [following]\n",
            "--2024-01-28 02:03:28--  https://uc108df17aac8f434f6832d3d455.dl.dropboxusercontent.com/cd/0/get/CMKcH_1fcdl83VjqYImadxaL927QXplwB1gfblPkTMOakgbdevIuCfLh9vQfDR_0g9S8JQxPqObdY1BDVCBSUw_BX7tQt7HDF2KAric-myJESqqXTWpYneFIWPfNCP2N1ciheX0-u1ibK2Kc1hcu10Qt/file?dl=1\n",
            "Resolving uc108df17aac8f434f6832d3d455.dl.dropboxusercontent.com (uc108df17aac8f434f6832d3d455.dl.dropboxusercontent.com)... 162.125.65.15, 2620:100:6017:15::a27d:20f\n",
            "Connecting to uc108df17aac8f434f6832d3d455.dl.dropboxusercontent.com (uc108df17aac8f434f6832d3d455.dl.dropboxusercontent.com)|162.125.65.15|:443... connected.\n",
            "HTTP request sent, awaiting response... 200 OK\n",
            "Length: 2090247044 (1.9G) [application/binary]\n",
            "Saving to: ‘archive.zip’\n",
            "\n",
            "archive.zip         100%[===================>]   1.95G  14.7MB/s    in 2m 15s  \n",
            "\n",
            "2024-01-28 02:05:45 (14.7 MB/s) - ‘archive.zip’ saved [2090247044/2090247044]\n",
            "\n"
          ]
        }
      ]
    },
    {
      "cell_type": "code",
      "metadata": {
        "id": "a2ZfCB8sMNsi"
      },
      "source": [
        "# Unzipping the dataset and delete the .zip file\n",
        "\n",
        "!unzip -q '/content/archive.zip'\n",
        "!rm -rf '/content/archive.zip'"
      ],
      "execution_count": 4,
      "outputs": []
    },
    {
      "cell_type": "code",
      "metadata": {
        "id": "jRjJftQ2tTu8"
      },
      "source": [
        "# Settting up batch size, random seed, and the dataset path\n",
        "\n",
        "BATCH_SIZE = 32\n",
        "SEED = 22\n",
        "#dataset_path = '/content/chest_xray'\n",
        "dataset_path = '/content/Dataset'"
      ],
      "execution_count": 8,
      "outputs": []
    },
    {
      "cell_type": "code",
      "metadata": {
        "id": "1WmRUvy1R4Sf"
      },
      "source": [
        "# Initialising ImageDataGenerator for data augmentation\n",
        "# We use random horizontal flip for augmentation\n",
        "# Pixels will be notmalised between 0 and 1\n",
        "  # zca_epsilon: Epsilon for ZCA whitening. Default is 1e-6\n",
        "  # Horizontal_flip: Boolean. Randomly flip inputs horizontally.\n",
        "  # Rescale: Rescaling factor, defaults to None.\n",
        "           # If None or 0, no rescaling is applied, otherwise it multiplied the data by the value provided\n",
        "           # (after applying all other transformations)\n",
        "\n",
        "train_val_gen = ImageDataGenerator(zca_epsilon = 0.0,\n",
        "                                   horizontal_flip = True,\n",
        "                                   zoom_range=0.1,\n",
        "                                   #width_shift_range=0.1,#added this new paramenter\n",
        "                                   rescale = 1./255)        # Do not change rescale\n",
        "\n",
        "test_gen = ImageDataGenerator(zca_epsilon = 0.0,\n",
        "                              horizontal_flip = False,\n",
        "                              rescale = 1./255)             # Do not change rescale\n",
        "\n",
        "# The evaluation on streamlit share assumes rescaling takes place,\n",
        "# and it is 1./255 always"
      ],
      "execution_count": 9,
      "outputs": []
    },
    {
      "cell_type": "code",
      "metadata": {
        "colab": {
          "base_uri": "https://localhost:8080/"
        },
        "id": "AKi9Wo4SR4RW",
        "outputId": "3b8652c8-4fea-4c9d-84ae-bd2a48769d9b"
      },
      "source": [
        "# Taking input of the train, validation, and test images using flow_from_directory() function\n",
        "# Setting the image size to (224, 224) and setting the batch size\n",
        "\n",
        "train_datagen = train_val_gen.flow_from_directory(directory = dataset_path + '/train',\n",
        "                                                  target_size = (224, 224),\n",
        "                                                  color_mode = \"rgb\",\n",
        "                                                  classes = None,\n",
        "                                                  class_mode = \"categorical\",\n",
        "                                                  batch_size = BATCH_SIZE,\n",
        "                                                  shuffle = True,\n",
        "                                                  seed = SEED,\n",
        "                                                  interpolation = \"nearest\")\n",
        "\n",
        "val_datagen = train_val_gen.flow_from_directory(directory = dataset_path + '/val',\n",
        "                                                target_size = (224, 224),\n",
        "                                                color_mode = \"rgb\",\n",
        "                                                classes = None,\n",
        "                                                class_mode = \"categorical\",\n",
        "                                                batch_size = BATCH_SIZE,\n",
        "                                                shuffle = True,\n",
        "                                                seed = SEED,\n",
        "                                                interpolation = \"nearest\")\n",
        "\n",
        "\n",
        "# For testing, we should take one input at a time. Hence, batch_size = 1\n",
        "\n",
        "test_datagen = test_gen.flow_from_directory(directory = dataset_path + '/test',\n",
        "                                            target_size = (224, 224),\n",
        "                                            color_mode = \"rgb\",\n",
        "                                            classes = None,\n",
        "                                            class_mode = \"categorical\",\n",
        "                                            batch_size = 1,\n",
        "                                            shuffle = False,\n",
        "                                            seed = SEED,\n",
        "                                            interpolation = \"nearest\")"
      ],
      "execution_count": 10,
      "outputs": [
        {
          "output_type": "stream",
          "name": "stdout",
          "text": [
            "Found 11290 images belonging to 3 classes.\n",
            "Found 3215 images belonging to 3 classes.\n",
            "Found 1563 images belonging to 3 classes.\n"
          ]
        }
      ]
    },
    {
      "cell_type": "code",
      "metadata": {
        "id": "WFtGrCLxRoO3",
        "colab": {
          "base_uri": "https://localhost:8080/"
        },
        "outputId": "bb79bc91-460e-488a-f1fe-301afdd84582"
      },
      "source": [
        "\n",
        "# Initialising MobileNet model and passing the imagenet weights\n",
        "# We are specifying classes = 1000 because the model was trained on 1000 classes\n",
        "# The classes will be changed afterwards according to our problem\n",
        "\n",
        "pretrained_model = tf.keras.applications.MobileNet(weights = 'imagenet',\n",
        "                                                   classes = 1000,\n",
        "                                                   #classes = 3,\n",
        "                                                   input_shape = (224, 224, 3),\n",
        "                                                   include_top = False,\n",
        "                                                   pooling = 'max')"
      ],
      "execution_count": 11,
      "outputs": [
        {
          "output_type": "stream",
          "name": "stdout",
          "text": [
            "Downloading data from https://storage.googleapis.com/tensorflow/keras-applications/mobilenet/mobilenet_1_0_224_tf_no_top.h5\n",
            "17225924/17225924 [==============================] - 0s 0us/step\n"
          ]
        }
      ]
    },
    {
      "cell_type": "code",
      "metadata": {
        "colab": {
          "base_uri": "https://localhost:8080/"
        },
        "id": "JiKY43qDxf71",
        "outputId": "a84a2a8c-d3fc-4fe1-8ed5-418b914c3065"
      },
      "source": [
        "# Printing the model summary\n",
        "\n",
        "print(pretrained_model.summary())"
      ],
      "execution_count": 12,
      "outputs": [
        {
          "output_type": "stream",
          "name": "stdout",
          "text": [
            "Model: \"mobilenet_1.00_224\"\n",
            "_________________________________________________________________\n",
            " Layer (type)                Output Shape              Param #   \n",
            "=================================================================\n",
            " input_1 (InputLayer)        [(None, 224, 224, 3)]     0         \n",
            "                                                                 \n",
            " conv1 (Conv2D)              (None, 112, 112, 32)      864       \n",
            "                                                                 \n",
            " conv1_bn (BatchNormalizati  (None, 112, 112, 32)      128       \n",
            " on)                                                             \n",
            "                                                                 \n",
            " conv1_relu (ReLU)           (None, 112, 112, 32)      0         \n",
            "                                                                 \n",
            " conv_dw_1 (DepthwiseConv2D  (None, 112, 112, 32)      288       \n",
            " )                                                               \n",
            "                                                                 \n",
            " conv_dw_1_bn (BatchNormali  (None, 112, 112, 32)      128       \n",
            " zation)                                                         \n",
            "                                                                 \n",
            " conv_dw_1_relu (ReLU)       (None, 112, 112, 32)      0         \n",
            "                                                                 \n",
            " conv_pw_1 (Conv2D)          (None, 112, 112, 64)      2048      \n",
            "                                                                 \n",
            " conv_pw_1_bn (BatchNormali  (None, 112, 112, 64)      256       \n",
            " zation)                                                         \n",
            "                                                                 \n",
            " conv_pw_1_relu (ReLU)       (None, 112, 112, 64)      0         \n",
            "                                                                 \n",
            " conv_pad_2 (ZeroPadding2D)  (None, 113, 113, 64)      0         \n",
            "                                                                 \n",
            " conv_dw_2 (DepthwiseConv2D  (None, 56, 56, 64)        576       \n",
            " )                                                               \n",
            "                                                                 \n",
            " conv_dw_2_bn (BatchNormali  (None, 56, 56, 64)        256       \n",
            " zation)                                                         \n",
            "                                                                 \n",
            " conv_dw_2_relu (ReLU)       (None, 56, 56, 64)        0         \n",
            "                                                                 \n",
            " conv_pw_2 (Conv2D)          (None, 56, 56, 128)       8192      \n",
            "                                                                 \n",
            " conv_pw_2_bn (BatchNormali  (None, 56, 56, 128)       512       \n",
            " zation)                                                         \n",
            "                                                                 \n",
            " conv_pw_2_relu (ReLU)       (None, 56, 56, 128)       0         \n",
            "                                                                 \n",
            " conv_dw_3 (DepthwiseConv2D  (None, 56, 56, 128)       1152      \n",
            " )                                                               \n",
            "                                                                 \n",
            " conv_dw_3_bn (BatchNormali  (None, 56, 56, 128)       512       \n",
            " zation)                                                         \n",
            "                                                                 \n",
            " conv_dw_3_relu (ReLU)       (None, 56, 56, 128)       0         \n",
            "                                                                 \n",
            " conv_pw_3 (Conv2D)          (None, 56, 56, 128)       16384     \n",
            "                                                                 \n",
            " conv_pw_3_bn (BatchNormali  (None, 56, 56, 128)       512       \n",
            " zation)                                                         \n",
            "                                                                 \n",
            " conv_pw_3_relu (ReLU)       (None, 56, 56, 128)       0         \n",
            "                                                                 \n",
            " conv_pad_4 (ZeroPadding2D)  (None, 57, 57, 128)       0         \n",
            "                                                                 \n",
            " conv_dw_4 (DepthwiseConv2D  (None, 28, 28, 128)       1152      \n",
            " )                                                               \n",
            "                                                                 \n",
            " conv_dw_4_bn (BatchNormali  (None, 28, 28, 128)       512       \n",
            " zation)                                                         \n",
            "                                                                 \n",
            " conv_dw_4_relu (ReLU)       (None, 28, 28, 128)       0         \n",
            "                                                                 \n",
            " conv_pw_4 (Conv2D)          (None, 28, 28, 256)       32768     \n",
            "                                                                 \n",
            " conv_pw_4_bn (BatchNormali  (None, 28, 28, 256)       1024      \n",
            " zation)                                                         \n",
            "                                                                 \n",
            " conv_pw_4_relu (ReLU)       (None, 28, 28, 256)       0         \n",
            "                                                                 \n",
            " conv_dw_5 (DepthwiseConv2D  (None, 28, 28, 256)       2304      \n",
            " )                                                               \n",
            "                                                                 \n",
            " conv_dw_5_bn (BatchNormali  (None, 28, 28, 256)       1024      \n",
            " zation)                                                         \n",
            "                                                                 \n",
            " conv_dw_5_relu (ReLU)       (None, 28, 28, 256)       0         \n",
            "                                                                 \n",
            " conv_pw_5 (Conv2D)          (None, 28, 28, 256)       65536     \n",
            "                                                                 \n",
            " conv_pw_5_bn (BatchNormali  (None, 28, 28, 256)       1024      \n",
            " zation)                                                         \n",
            "                                                                 \n",
            " conv_pw_5_relu (ReLU)       (None, 28, 28, 256)       0         \n",
            "                                                                 \n",
            " conv_pad_6 (ZeroPadding2D)  (None, 29, 29, 256)       0         \n",
            "                                                                 \n",
            " conv_dw_6 (DepthwiseConv2D  (None, 14, 14, 256)       2304      \n",
            " )                                                               \n",
            "                                                                 \n",
            " conv_dw_6_bn (BatchNormali  (None, 14, 14, 256)       1024      \n",
            " zation)                                                         \n",
            "                                                                 \n",
            " conv_dw_6_relu (ReLU)       (None, 14, 14, 256)       0         \n",
            "                                                                 \n",
            " conv_pw_6 (Conv2D)          (None, 14, 14, 512)       131072    \n",
            "                                                                 \n",
            " conv_pw_6_bn (BatchNormali  (None, 14, 14, 512)       2048      \n",
            " zation)                                                         \n",
            "                                                                 \n",
            " conv_pw_6_relu (ReLU)       (None, 14, 14, 512)       0         \n",
            "                                                                 \n",
            " conv_dw_7 (DepthwiseConv2D  (None, 14, 14, 512)       4608      \n",
            " )                                                               \n",
            "                                                                 \n",
            " conv_dw_7_bn (BatchNormali  (None, 14, 14, 512)       2048      \n",
            " zation)                                                         \n",
            "                                                                 \n",
            " conv_dw_7_relu (ReLU)       (None, 14, 14, 512)       0         \n",
            "                                                                 \n",
            " conv_pw_7 (Conv2D)          (None, 14, 14, 512)       262144    \n",
            "                                                                 \n",
            " conv_pw_7_bn (BatchNormali  (None, 14, 14, 512)       2048      \n",
            " zation)                                                         \n",
            "                                                                 \n",
            " conv_pw_7_relu (ReLU)       (None, 14, 14, 512)       0         \n",
            "                                                                 \n",
            " conv_dw_8 (DepthwiseConv2D  (None, 14, 14, 512)       4608      \n",
            " )                                                               \n",
            "                                                                 \n",
            " conv_dw_8_bn (BatchNormali  (None, 14, 14, 512)       2048      \n",
            " zation)                                                         \n",
            "                                                                 \n",
            " conv_dw_8_relu (ReLU)       (None, 14, 14, 512)       0         \n",
            "                                                                 \n",
            " conv_pw_8 (Conv2D)          (None, 14, 14, 512)       262144    \n",
            "                                                                 \n",
            " conv_pw_8_bn (BatchNormali  (None, 14, 14, 512)       2048      \n",
            " zation)                                                         \n",
            "                                                                 \n",
            " conv_pw_8_relu (ReLU)       (None, 14, 14, 512)       0         \n",
            "                                                                 \n",
            " conv_dw_9 (DepthwiseConv2D  (None, 14, 14, 512)       4608      \n",
            " )                                                               \n",
            "                                                                 \n",
            " conv_dw_9_bn (BatchNormali  (None, 14, 14, 512)       2048      \n",
            " zation)                                                         \n",
            "                                                                 \n",
            " conv_dw_9_relu (ReLU)       (None, 14, 14, 512)       0         \n",
            "                                                                 \n",
            " conv_pw_9 (Conv2D)          (None, 14, 14, 512)       262144    \n",
            "                                                                 \n",
            " conv_pw_9_bn (BatchNormali  (None, 14, 14, 512)       2048      \n",
            " zation)                                                         \n",
            "                                                                 \n",
            " conv_pw_9_relu (ReLU)       (None, 14, 14, 512)       0         \n",
            "                                                                 \n",
            " conv_dw_10 (DepthwiseConv2  (None, 14, 14, 512)       4608      \n",
            " D)                                                              \n",
            "                                                                 \n",
            " conv_dw_10_bn (BatchNormal  (None, 14, 14, 512)       2048      \n",
            " ization)                                                        \n",
            "                                                                 \n",
            " conv_dw_10_relu (ReLU)      (None, 14, 14, 512)       0         \n",
            "                                                                 \n",
            " conv_pw_10 (Conv2D)         (None, 14, 14, 512)       262144    \n",
            "                                                                 \n",
            " conv_pw_10_bn (BatchNormal  (None, 14, 14, 512)       2048      \n",
            " ization)                                                        \n",
            "                                                                 \n",
            " conv_pw_10_relu (ReLU)      (None, 14, 14, 512)       0         \n",
            "                                                                 \n",
            " conv_dw_11 (DepthwiseConv2  (None, 14, 14, 512)       4608      \n",
            " D)                                                              \n",
            "                                                                 \n",
            " conv_dw_11_bn (BatchNormal  (None, 14, 14, 512)       2048      \n",
            " ization)                                                        \n",
            "                                                                 \n",
            " conv_dw_11_relu (ReLU)      (None, 14, 14, 512)       0         \n",
            "                                                                 \n",
            " conv_pw_11 (Conv2D)         (None, 14, 14, 512)       262144    \n",
            "                                                                 \n",
            " conv_pw_11_bn (BatchNormal  (None, 14, 14, 512)       2048      \n",
            " ization)                                                        \n",
            "                                                                 \n",
            " conv_pw_11_relu (ReLU)      (None, 14, 14, 512)       0         \n",
            "                                                                 \n",
            " conv_pad_12 (ZeroPadding2D  (None, 15, 15, 512)       0         \n",
            " )                                                               \n",
            "                                                                 \n",
            " conv_dw_12 (DepthwiseConv2  (None, 7, 7, 512)         4608      \n",
            " D)                                                              \n",
            "                                                                 \n",
            " conv_dw_12_bn (BatchNormal  (None, 7, 7, 512)         2048      \n",
            " ization)                                                        \n",
            "                                                                 \n",
            " conv_dw_12_relu (ReLU)      (None, 7, 7, 512)         0         \n",
            "                                                                 \n",
            " conv_pw_12 (Conv2D)         (None, 7, 7, 1024)        524288    \n",
            "                                                                 \n",
            " conv_pw_12_bn (BatchNormal  (None, 7, 7, 1024)        4096      \n",
            " ization)                                                        \n",
            "                                                                 \n",
            " conv_pw_12_relu (ReLU)      (None, 7, 7, 1024)        0         \n",
            "                                                                 \n",
            " conv_dw_13 (DepthwiseConv2  (None, 7, 7, 1024)        9216      \n",
            " D)                                                              \n",
            "                                                                 \n",
            " conv_dw_13_bn (BatchNormal  (None, 7, 7, 1024)        4096      \n",
            " ization)                                                        \n",
            "                                                                 \n",
            " conv_dw_13_relu (ReLU)      (None, 7, 7, 1024)        0         \n",
            "                                                                 \n",
            " conv_pw_13 (Conv2D)         (None, 7, 7, 1024)        1048576   \n",
            "                                                                 \n",
            " conv_pw_13_bn (BatchNormal  (None, 7, 7, 1024)        4096      \n",
            " ization)                                                        \n",
            "                                                                 \n",
            " conv_pw_13_relu (ReLU)      (None, 7, 7, 1024)        0         \n",
            "                                                                 \n",
            " global_max_pooling2d (Glob  (None, 1024)              0         \n",
            " alMaxPooling2D)                                                 \n",
            "                                                                 \n",
            "=================================================================\n",
            "Total params: 3228864 (12.32 MB)\n",
            "Trainable params: 3206976 (12.23 MB)\n",
            "Non-trainable params: 21888 (85.50 KB)\n",
            "_________________________________________________________________\n",
            "None\n"
          ]
        }
      ]
    },
    {
      "cell_type": "code",
      "metadata": {
        "id": "RCImQBINZnEw"
      },
      "source": [
        "\n",
        "\n",
        "# Adding a prediction layer. It takes input from the last layer (global_max_pooling2d) of MobileNet\n",
        "# It has 2 dense units, as it is a binary classification problem\n",
        "\n",
        "#predictions = Dense(2, activation = 'softmax')(pretrained_model.output)\n",
        "predictions = Dense(3, activation = 'softmax')(pretrained_model.output)\n",
        "\n",
        "\n",
        "# Defining new model's input and output layers\n",
        "# Input layer of the new model will be the same as MobileNet\n",
        "# But the output of the new model will be the output of final dense layer, i.e., 2 units\n",
        "\n",
        "model = Model(inputs = pretrained_model.input, outputs = predictions)\n",
        "\n",
        "\n",
        "# We use the SGD optimiser, with a very low learning rate, and loss function which is specific to two class classification\n",
        "\n",
        "#model.compile(optimizer = tf.keras.optimizers.SGD(0.000001),\n",
        "#              loss = \"binary_crossentropy\",\n",
        "#              metrics = [\"accuracy\"])\n",
        "model.compile(optimizer = tf.keras.optimizers.Adam(0.00001), #changed lr from 0.000001 to 0.001\n",
        "              loss = \"binary_crossentropy\",\n",
        "              metrics = [\"accuracy\"])"
      ],
      "execution_count": 13,
      "outputs": []
    },
    {
      "cell_type": "code",
      "metadata": {
        "id": "mvbvJ1H36ntf"
      },
      "source": [
        "# You can directly save the model into your Google drive by changing the below path\n",
        "\n",
        "model_filepath = '/content/best_model.h5'\n",
        "\n",
        "# ModelCheckpoint callback will save models weight if the training accuracy of the model has increased from the previous epoch\n",
        "\n",
        "model_save = tf.keras.callbacks.ModelCheckpoint(model_filepath,\n",
        "                                                monitor = \"val_accuracy\",\n",
        "                                                verbose = 0,\n",
        "                                                save_best_only = True,\n",
        "                                                save_weights_only = False,\n",
        "                                                mode = \"max\",\n",
        "                                                save_freq = \"epoch\")\n",
        "\n",
        "\n",
        "# Additionally you can add more callbacks, like ReduceLROnPlateau\n",
        "lrreduction = tf.keras.callbacks.ReduceLROnPlateau(\n",
        "    monitor=\"val_loss\",\n",
        "    factor=0.1,\n",
        "    patience=10,\n",
        "    verbose=0,\n",
        "    mode=\"auto\",\n",
        "    min_delta=0.0001,\n",
        "    cooldown=0,\n",
        "    min_lr=0.001)\n",
        "\n",
        "callback = [model_save,lrreduction]\n",
        "callback = [model_save]"
      ],
      "execution_count": 14,
      "outputs": []
    },
    {
      "cell_type": "code",
      "metadata": {
        "colab": {
          "base_uri": "https://localhost:8080/"
        },
        "id": "pj8Wh3qHy-P1",
        "outputId": "0d92d1ec-2e52-4519-d088-30dea1c094a3"
      },
      "source": [
        "# Printing the model summary\n",
        "\n",
        "print(model.summary())"
      ],
      "execution_count": 15,
      "outputs": [
        {
          "output_type": "stream",
          "name": "stdout",
          "text": [
            "Model: \"model\"\n",
            "_________________________________________________________________\n",
            " Layer (type)                Output Shape              Param #   \n",
            "=================================================================\n",
            " input_1 (InputLayer)        [(None, 224, 224, 3)]     0         \n",
            "                                                                 \n",
            " conv1 (Conv2D)              (None, 112, 112, 32)      864       \n",
            "                                                                 \n",
            " conv1_bn (BatchNormalizati  (None, 112, 112, 32)      128       \n",
            " on)                                                             \n",
            "                                                                 \n",
            " conv1_relu (ReLU)           (None, 112, 112, 32)      0         \n",
            "                                                                 \n",
            " conv_dw_1 (DepthwiseConv2D  (None, 112, 112, 32)      288       \n",
            " )                                                               \n",
            "                                                                 \n",
            " conv_dw_1_bn (BatchNormali  (None, 112, 112, 32)      128       \n",
            " zation)                                                         \n",
            "                                                                 \n",
            " conv_dw_1_relu (ReLU)       (None, 112, 112, 32)      0         \n",
            "                                                                 \n",
            " conv_pw_1 (Conv2D)          (None, 112, 112, 64)      2048      \n",
            "                                                                 \n",
            " conv_pw_1_bn (BatchNormali  (None, 112, 112, 64)      256       \n",
            " zation)                                                         \n",
            "                                                                 \n",
            " conv_pw_1_relu (ReLU)       (None, 112, 112, 64)      0         \n",
            "                                                                 \n",
            " conv_pad_2 (ZeroPadding2D)  (None, 113, 113, 64)      0         \n",
            "                                                                 \n",
            " conv_dw_2 (DepthwiseConv2D  (None, 56, 56, 64)        576       \n",
            " )                                                               \n",
            "                                                                 \n",
            " conv_dw_2_bn (BatchNormali  (None, 56, 56, 64)        256       \n",
            " zation)                                                         \n",
            "                                                                 \n",
            " conv_dw_2_relu (ReLU)       (None, 56, 56, 64)        0         \n",
            "                                                                 \n",
            " conv_pw_2 (Conv2D)          (None, 56, 56, 128)       8192      \n",
            "                                                                 \n",
            " conv_pw_2_bn (BatchNormali  (None, 56, 56, 128)       512       \n",
            " zation)                                                         \n",
            "                                                                 \n",
            " conv_pw_2_relu (ReLU)       (None, 56, 56, 128)       0         \n",
            "                                                                 \n",
            " conv_dw_3 (DepthwiseConv2D  (None, 56, 56, 128)       1152      \n",
            " )                                                               \n",
            "                                                                 \n",
            " conv_dw_3_bn (BatchNormali  (None, 56, 56, 128)       512       \n",
            " zation)                                                         \n",
            "                                                                 \n",
            " conv_dw_3_relu (ReLU)       (None, 56, 56, 128)       0         \n",
            "                                                                 \n",
            " conv_pw_3 (Conv2D)          (None, 56, 56, 128)       16384     \n",
            "                                                                 \n",
            " conv_pw_3_bn (BatchNormali  (None, 56, 56, 128)       512       \n",
            " zation)                                                         \n",
            "                                                                 \n",
            " conv_pw_3_relu (ReLU)       (None, 56, 56, 128)       0         \n",
            "                                                                 \n",
            " conv_pad_4 (ZeroPadding2D)  (None, 57, 57, 128)       0         \n",
            "                                                                 \n",
            " conv_dw_4 (DepthwiseConv2D  (None, 28, 28, 128)       1152      \n",
            " )                                                               \n",
            "                                                                 \n",
            " conv_dw_4_bn (BatchNormali  (None, 28, 28, 128)       512       \n",
            " zation)                                                         \n",
            "                                                                 \n",
            " conv_dw_4_relu (ReLU)       (None, 28, 28, 128)       0         \n",
            "                                                                 \n",
            " conv_pw_4 (Conv2D)          (None, 28, 28, 256)       32768     \n",
            "                                                                 \n",
            " conv_pw_4_bn (BatchNormali  (None, 28, 28, 256)       1024      \n",
            " zation)                                                         \n",
            "                                                                 \n",
            " conv_pw_4_relu (ReLU)       (None, 28, 28, 256)       0         \n",
            "                                                                 \n",
            " conv_dw_5 (DepthwiseConv2D  (None, 28, 28, 256)       2304      \n",
            " )                                                               \n",
            "                                                                 \n",
            " conv_dw_5_bn (BatchNormali  (None, 28, 28, 256)       1024      \n",
            " zation)                                                         \n",
            "                                                                 \n",
            " conv_dw_5_relu (ReLU)       (None, 28, 28, 256)       0         \n",
            "                                                                 \n",
            " conv_pw_5 (Conv2D)          (None, 28, 28, 256)       65536     \n",
            "                                                                 \n",
            " conv_pw_5_bn (BatchNormali  (None, 28, 28, 256)       1024      \n",
            " zation)                                                         \n",
            "                                                                 \n",
            " conv_pw_5_relu (ReLU)       (None, 28, 28, 256)       0         \n",
            "                                                                 \n",
            " conv_pad_6 (ZeroPadding2D)  (None, 29, 29, 256)       0         \n",
            "                                                                 \n",
            " conv_dw_6 (DepthwiseConv2D  (None, 14, 14, 256)       2304      \n",
            " )                                                               \n",
            "                                                                 \n",
            " conv_dw_6_bn (BatchNormali  (None, 14, 14, 256)       1024      \n",
            " zation)                                                         \n",
            "                                                                 \n",
            " conv_dw_6_relu (ReLU)       (None, 14, 14, 256)       0         \n",
            "                                                                 \n",
            " conv_pw_6 (Conv2D)          (None, 14, 14, 512)       131072    \n",
            "                                                                 \n",
            " conv_pw_6_bn (BatchNormali  (None, 14, 14, 512)       2048      \n",
            " zation)                                                         \n",
            "                                                                 \n",
            " conv_pw_6_relu (ReLU)       (None, 14, 14, 512)       0         \n",
            "                                                                 \n",
            " conv_dw_7 (DepthwiseConv2D  (None, 14, 14, 512)       4608      \n",
            " )                                                               \n",
            "                                                                 \n",
            " conv_dw_7_bn (BatchNormali  (None, 14, 14, 512)       2048      \n",
            " zation)                                                         \n",
            "                                                                 \n",
            " conv_dw_7_relu (ReLU)       (None, 14, 14, 512)       0         \n",
            "                                                                 \n",
            " conv_pw_7 (Conv2D)          (None, 14, 14, 512)       262144    \n",
            "                                                                 \n",
            " conv_pw_7_bn (BatchNormali  (None, 14, 14, 512)       2048      \n",
            " zation)                                                         \n",
            "                                                                 \n",
            " conv_pw_7_relu (ReLU)       (None, 14, 14, 512)       0         \n",
            "                                                                 \n",
            " conv_dw_8 (DepthwiseConv2D  (None, 14, 14, 512)       4608      \n",
            " )                                                               \n",
            "                                                                 \n",
            " conv_dw_8_bn (BatchNormali  (None, 14, 14, 512)       2048      \n",
            " zation)                                                         \n",
            "                                                                 \n",
            " conv_dw_8_relu (ReLU)       (None, 14, 14, 512)       0         \n",
            "                                                                 \n",
            " conv_pw_8 (Conv2D)          (None, 14, 14, 512)       262144    \n",
            "                                                                 \n",
            " conv_pw_8_bn (BatchNormali  (None, 14, 14, 512)       2048      \n",
            " zation)                                                         \n",
            "                                                                 \n",
            " conv_pw_8_relu (ReLU)       (None, 14, 14, 512)       0         \n",
            "                                                                 \n",
            " conv_dw_9 (DepthwiseConv2D  (None, 14, 14, 512)       4608      \n",
            " )                                                               \n",
            "                                                                 \n",
            " conv_dw_9_bn (BatchNormali  (None, 14, 14, 512)       2048      \n",
            " zation)                                                         \n",
            "                                                                 \n",
            " conv_dw_9_relu (ReLU)       (None, 14, 14, 512)       0         \n",
            "                                                                 \n",
            " conv_pw_9 (Conv2D)          (None, 14, 14, 512)       262144    \n",
            "                                                                 \n",
            " conv_pw_9_bn (BatchNormali  (None, 14, 14, 512)       2048      \n",
            " zation)                                                         \n",
            "                                                                 \n",
            " conv_pw_9_relu (ReLU)       (None, 14, 14, 512)       0         \n",
            "                                                                 \n",
            " conv_dw_10 (DepthwiseConv2  (None, 14, 14, 512)       4608      \n",
            " D)                                                              \n",
            "                                                                 \n",
            " conv_dw_10_bn (BatchNormal  (None, 14, 14, 512)       2048      \n",
            " ization)                                                        \n",
            "                                                                 \n",
            " conv_dw_10_relu (ReLU)      (None, 14, 14, 512)       0         \n",
            "                                                                 \n",
            " conv_pw_10 (Conv2D)         (None, 14, 14, 512)       262144    \n",
            "                                                                 \n",
            " conv_pw_10_bn (BatchNormal  (None, 14, 14, 512)       2048      \n",
            " ization)                                                        \n",
            "                                                                 \n",
            " conv_pw_10_relu (ReLU)      (None, 14, 14, 512)       0         \n",
            "                                                                 \n",
            " conv_dw_11 (DepthwiseConv2  (None, 14, 14, 512)       4608      \n",
            " D)                                                              \n",
            "                                                                 \n",
            " conv_dw_11_bn (BatchNormal  (None, 14, 14, 512)       2048      \n",
            " ization)                                                        \n",
            "                                                                 \n",
            " conv_dw_11_relu (ReLU)      (None, 14, 14, 512)       0         \n",
            "                                                                 \n",
            " conv_pw_11 (Conv2D)         (None, 14, 14, 512)       262144    \n",
            "                                                                 \n",
            " conv_pw_11_bn (BatchNormal  (None, 14, 14, 512)       2048      \n",
            " ization)                                                        \n",
            "                                                                 \n",
            " conv_pw_11_relu (ReLU)      (None, 14, 14, 512)       0         \n",
            "                                                                 \n",
            " conv_pad_12 (ZeroPadding2D  (None, 15, 15, 512)       0         \n",
            " )                                                               \n",
            "                                                                 \n",
            " conv_dw_12 (DepthwiseConv2  (None, 7, 7, 512)         4608      \n",
            " D)                                                              \n",
            "                                                                 \n",
            " conv_dw_12_bn (BatchNormal  (None, 7, 7, 512)         2048      \n",
            " ization)                                                        \n",
            "                                                                 \n",
            " conv_dw_12_relu (ReLU)      (None, 7, 7, 512)         0         \n",
            "                                                                 \n",
            " conv_pw_12 (Conv2D)         (None, 7, 7, 1024)        524288    \n",
            "                                                                 \n",
            " conv_pw_12_bn (BatchNormal  (None, 7, 7, 1024)        4096      \n",
            " ization)                                                        \n",
            "                                                                 \n",
            " conv_pw_12_relu (ReLU)      (None, 7, 7, 1024)        0         \n",
            "                                                                 \n",
            " conv_dw_13 (DepthwiseConv2  (None, 7, 7, 1024)        9216      \n",
            " D)                                                              \n",
            "                                                                 \n",
            " conv_dw_13_bn (BatchNormal  (None, 7, 7, 1024)        4096      \n",
            " ization)                                                        \n",
            "                                                                 \n",
            " conv_dw_13_relu (ReLU)      (None, 7, 7, 1024)        0         \n",
            "                                                                 \n",
            " conv_pw_13 (Conv2D)         (None, 7, 7, 1024)        1048576   \n",
            "                                                                 \n",
            " conv_pw_13_bn (BatchNormal  (None, 7, 7, 1024)        4096      \n",
            " ization)                                                        \n",
            "                                                                 \n",
            " conv_pw_13_relu (ReLU)      (None, 7, 7, 1024)        0         \n",
            "                                                                 \n",
            " global_max_pooling2d (Glob  (None, 1024)              0         \n",
            " alMaxPooling2D)                                                 \n",
            "                                                                 \n",
            " dense (Dense)               (None, 3)                 3075      \n",
            "                                                                 \n",
            "=================================================================\n",
            "Total params: 3231939 (12.33 MB)\n",
            "Trainable params: 3210051 (12.25 MB)\n",
            "Non-trainable params: 21888 (85.50 KB)\n",
            "_________________________________________________________________\n",
            "None\n"
          ]
        }
      ]
    },
    {
      "cell_type": "code",
      "metadata": {
        "colab": {
          "base_uri": "https://localhost:8080/"
        },
        "id": "BvuPYVxr3cJG",
        "outputId": "12993f9a-1b83-4e4a-8dcd-c722afe17a5f"
      },
      "source": [
        "\n",
        "# Training the model for 5 epochs\n",
        "# Shuffle is set to false because the data is already shuffled in flow_from_directory() method\n",
        "\n",
        "history = model.fit(train_datagen,\n",
        "                    epochs = 20,#changed from 5 to 10\n",
        "                    steps_per_epoch = (len(train_datagen)),\n",
        "                    validation_data = val_datagen,\n",
        "                    validation_steps = (len(val_datagen)),\n",
        "                    shuffle = False,\n",
        "                    callbacks = callback)"
      ],
      "execution_count": 18,
      "outputs": [
        {
          "output_type": "stream",
          "name": "stdout",
          "text": [
            "Epoch 1/20\n",
            "353/353 [==============================] - 259s 735ms/step - loss: 0.0189 - accuracy: 0.9926 - val_loss: 0.1021 - val_accuracy: 0.9705\n",
            "Epoch 2/20\n",
            "353/353 [==============================] - 263s 744ms/step - loss: 0.0215 - accuracy: 0.9928 - val_loss: 0.1004 - val_accuracy: 0.9714\n",
            "Epoch 3/20\n",
            "353/353 [==============================] - 258s 730ms/step - loss: 0.0180 - accuracy: 0.9938 - val_loss: 0.1081 - val_accuracy: 0.9692\n",
            "Epoch 4/20\n",
            "353/353 [==============================] - 263s 746ms/step - loss: 0.0172 - accuracy: 0.9942 - val_loss: 0.1000 - val_accuracy: 0.9729\n",
            "Epoch 5/20\n",
            "353/353 [==============================] - 285s 809ms/step - loss: 0.0172 - accuracy: 0.9943 - val_loss: 0.1045 - val_accuracy: 0.9733\n",
            "Epoch 6/20\n",
            "353/353 [==============================] - 262s 744ms/step - loss: 0.0159 - accuracy: 0.9942 - val_loss: 0.1033 - val_accuracy: 0.9705\n",
            "Epoch 7/20\n",
            "353/353 [==============================] - 286s 810ms/step - loss: 0.0138 - accuracy: 0.9957 - val_loss: 0.1013 - val_accuracy: 0.9729\n",
            "Epoch 8/20\n",
            "353/353 [==============================] - 260s 737ms/step - loss: 0.0147 - accuracy: 0.9950 - val_loss: 0.1001 - val_accuracy: 0.9701\n",
            "Epoch 9/20\n",
            "353/353 [==============================] - 262s 743ms/step - loss: 0.0114 - accuracy: 0.9967 - val_loss: 0.1023 - val_accuracy: 0.9739\n",
            "Epoch 10/20\n",
            "353/353 [==============================] - 261s 740ms/step - loss: 0.0122 - accuracy: 0.9964 - val_loss: 0.1029 - val_accuracy: 0.9757\n",
            "Epoch 11/20\n",
            "353/353 [==============================] - 256s 725ms/step - loss: 0.0101 - accuracy: 0.9970 - val_loss: 0.0984 - val_accuracy: 0.9742\n",
            "Epoch 12/20\n",
            "353/353 [==============================] - 254s 720ms/step - loss: 0.0109 - accuracy: 0.9967 - val_loss: 0.0959 - val_accuracy: 0.9764\n",
            "Epoch 13/20\n",
            "353/353 [==============================] - 255s 723ms/step - loss: 0.0097 - accuracy: 0.9970 - val_loss: 0.0976 - val_accuracy: 0.9764\n",
            "Epoch 14/20\n",
            "353/353 [==============================] - 282s 800ms/step - loss: 0.0091 - accuracy: 0.9973 - val_loss: 0.1047 - val_accuracy: 0.9754\n",
            "Epoch 15/20\n",
            "353/353 [==============================] - 255s 724ms/step - loss: 0.0075 - accuracy: 0.9985 - val_loss: 0.1019 - val_accuracy: 0.9776\n",
            "Epoch 16/20\n",
            "353/353 [==============================] - 282s 799ms/step - loss: 0.0084 - accuracy: 0.9979 - val_loss: 0.0985 - val_accuracy: 0.9764\n",
            "Epoch 17/20\n",
            "353/353 [==============================] - 256s 727ms/step - loss: 0.0078 - accuracy: 0.9977 - val_loss: 0.1022 - val_accuracy: 0.9770\n",
            "Epoch 18/20\n",
            "353/353 [==============================] - 258s 732ms/step - loss: 0.0067 - accuracy: 0.9983 - val_loss: 0.0954 - val_accuracy: 0.9736\n",
            "Epoch 19/20\n",
            "353/353 [==============================] - 261s 740ms/step - loss: 0.0070 - accuracy: 0.9986 - val_loss: 0.1017 - val_accuracy: 0.9717\n",
            "Epoch 20/20\n",
            "353/353 [==============================] - 259s 734ms/step - loss: 0.0061 - accuracy: 0.9984 - val_loss: 0.1037 - val_accuracy: 0.9745\n"
          ]
        }
      ]
    },
    {
      "cell_type": "code",
      "metadata": {
        "colab": {
          "base_uri": "https://localhost:8080/",
          "height": 1000
        },
        "id": "mPVM5tnlbWHW",
        "outputId": "c1124b8c-3a52-4822-cdd0-178c21441686"
      },
      "source": [
        "# Plotting the loss and accuracy graphs\n",
        "\n",
        "import matplotlib.pyplot as plt\n",
        "\n",
        "plt.figure(figsize = (15,7))\n",
        "\n",
        "tr_losses = history.history['loss']\n",
        "val_losses = history.history['val_loss']\n",
        "\n",
        "tr_accs = history.history['accuracy']\n",
        "val_accs = history.history['val_accuracy']\n",
        "\n",
        "plt.plot(tr_losses, label = \"train_loss\")\n",
        "plt.plot(val_losses, label = \"val_loss\")\n",
        "plt.xlabel(\"Number of epochs\")\n",
        "plt.ylabel(\"Cost (J)\")\n",
        "plt.grid()\n",
        "plt.legend()\n",
        "plt.show()\n",
        "\n",
        "plt.figure(figsize = (15,7))\n",
        "\n",
        "plt.plot(tr_accs, label = \"acc_train\")\n",
        "plt.plot(val_accs, label = \"acc_val\")\n",
        "plt.xlabel(\"Number of epochs\")\n",
        "plt.ylabel(\"Accuracy\")\n",
        "plt.grid()\n",
        "plt.legend()\n",
        "plt.show()"
      ],
      "execution_count": 19,
      "outputs": [
        {
          "output_type": "display_data",
          "data": {
            "text/plain": [
              "<Figure size 1500x700 with 1 Axes>"
            ],
            "image/png": "[encoded data removed]"
          },
          "metadata": {}
        },
        {
          "output_type": "display_data",
          "data": {
            "text/plain": [
              "<Figure size 1500x700 with 1 Axes>"
            ],
            "image/png": "[encoded data removed]"
          },
          "metadata": {}
        }
      ]
    },
    {
      "cell_type": "markdown",
      "metadata": {
        "id": "i1nd0ozBLU96"
      },
      "source": [
        "## Model evaluation on test set\n",
        "\n"
      ]
    },
    {
      "cell_type": "code",
      "metadata": {
        "colab": {
          "base_uri": "https://localhost:8080/"
        },
        "id": "AOg2apcILJQo",
        "outputId": "c4d99f40-1075-45d0-b9a0-2690e9156ce7"
      },
      "source": [
        "# Model prediction on test set\n",
        "\n",
        "predictions = model.predict(test_datagen,\n",
        "                            verbose = 1,\n",
        "                            steps = (len(test_datagen)))"
      ],
      "execution_count": 20,
      "outputs": [
        {
          "output_type": "stream",
          "name": "stdout",
          "text": [
            "1563/1563 [==============================] - 15s 9ms/step\n"
          ]
        }
      ]
    },
    {
      "cell_type": "code",
      "metadata": {
        "colab": {
          "base_uri": "https://localhost:8080/"
        },
        "id": "2OcQ1My_MCTR",
        "outputId": "cafc5ffb-4dd9-4cf9-b67f-abd655cfb0a3"
      },
      "source": [
        "# Printing predicted classes on the test dataset\n",
        "\n",
        "predictions.squeeze().argmax(axis = -1)"
      ],
      "execution_count": 21,
      "outputs": [
        {
          "output_type": "execute_result",
          "data": {
            "text/plain": [
              "array([0, 0, 0, ..., 2, 2, 2])"
            ]
          },
          "metadata": {},
          "execution_count": 21
        }
      ]
    },
    {
      "cell_type": "code",
      "metadata": {
        "colab": {
          "base_uri": "https://localhost:8080/"
        },
        "id": "1mX7007uLJCi",
        "outputId": "8cf45988-4a02-4957-8dca-13e22248daa4"
      },
      "source": [
        "# Generating the classification report for checking the model's performance on the test set of the same dataset\n",
        "\n",
        "classification__report = classification_report(test_datagen.classes,\n",
        "                                               predictions.squeeze().argmax(axis = 1))\n",
        "print(classification__report)"
      ],
      "execution_count": 22,
      "outputs": [
        {
          "output_type": "stream",
          "name": "stdout",
          "text": [
            "              precision    recall  f1-score   support\n",
            "\n",
            "           0       0.99      0.98      0.98       491\n",
            "           1       0.95      0.99      0.97       545\n",
            "           2       1.00      0.96      0.98       527\n",
            "\n",
            "    accuracy                           0.98      1563\n",
            "   macro avg       0.98      0.98      0.98      1563\n",
            "weighted avg       0.98      0.98      0.98      1563\n",
            "\n"
          ]
        }
      ]
    },
    {
      "cell_type": "code",
      "metadata": {
        "colab": {
          "base_uri": "https://localhost:8080/"
        },
        "id": "WvlpxIs2LP6a",
        "outputId": "6df40870-509f-4380-f47d-43ebacf73705"
      },
      "source": [
        "# Generating confusion matrix to see where the model is misclassifying\n",
        "\n",
        "confusion__matrix = confusion_matrix(test_datagen.classes,\n",
        "                                     predictions.squeeze().argmax(axis = 1))\n",
        "print(confusion__matrix)"
      ],
      "execution_count": 23,
      "outputs": [
        {
          "output_type": "stream",
          "name": "stdout",
          "text": [
            "[[481   8   2]\n",
            " [  4 541   0]\n",
            " [  1  20 506]]\n"
          ]
        }
      ]
    },
    {
      "cell_type": "code",
      "metadata": {
        "id": "P02D0amrCxqd"
      },
      "source": [
        "# Defining a function to print a confusion matrix\n",
        "# Code snippet referenced from: https://scikit-learn.org/0.18/auto_examples/model_selection/plot_confusion_matrix.html\n",
        "\n",
        "import itertools\n",
        "def plot_confusion_matrix(cm,\n",
        "                          classes,\n",
        "                          normalise = False,\n",
        "                          title = 'Confusion matrix',\n",
        "                          cmap = plt.cm.Reds):\n",
        "\n",
        "    plt.imshow(cm, interpolation = 'nearest', cmap = cmap)\n",
        "    plt.title(title)\n",
        "    plt.colorbar()\n",
        "    tick_marks = np.arange(len(classes))\n",
        "    plt.xticks(tick_marks, classes, rotation = 45)\n",
        "    plt.yticks(tick_marks, classes)\n",
        "\n",
        "    if normalise:\n",
        "        cm = cm.astype('float') / cm.sum(axis = 1)[:, np.newaxis]\n",
        "        cm = cm.round(2)\n",
        "\n",
        "    thresh = cm.max() / 2.\n",
        "\n",
        "    for i, j in itertools.product(range(cm.shape[0]), range(cm.shape[1])):\n",
        "        plt.text(j, i, cm[i, j],\n",
        "                 horizontalalignment = \"center\",\n",
        "                 color = \"white\" if cm[i, j] > thresh else \"black\")\n",
        "\n",
        "    plt.tight_layout()\n",
        "    plt.ylabel('True label')\n",
        "    plt.xlabel('Predicted label')"
      ],
      "execution_count": 24,
      "outputs": []
    },
    {
      "cell_type": "code",
      "metadata": {
        "colab": {
          "base_uri": "https://localhost:8080/",
          "height": 455
        },
        "id": "hnQiFQydI-gY",
        "outputId": "5244584d-0512-4820-9061-cddc019f27fd"
      },
      "source": [
        "# Printing the confusion matrix (not normalised)\n",
        "\n",
        "np.set_printoptions(precision = 2)\n",
        "fig1 = plt.figure(figsize = (7, 6))\n",
        "plot_confusion_matrix(confusion__matrix,\n",
        "                      classes = np.unique(test_datagen.classes),\n",
        "                      title = 'Confusion matrix without normalisation')\n",
        "fig1.savefig('/content/cm_wo_norm.jpg')\n",
        "plt.show()"
      ],
      "execution_count": null,
      "outputs": [
        {
          "output_type": "display_data",
          "data": {
            "image/png": "[encoded data removed]",
            "text/plain": [
              "<Figure size 504x432 with 2 Axes>"
            ]
          },
          "metadata": {
            "tags": [],
            "needs_background": "light"
          }
        }
      ]
    },
    {
      "cell_type": "code",
      "metadata": {
        "colab": {
          "base_uri": "https://localhost:8080/",
          "height": 455
        },
        "id": "pGMNo8k8I2pt",
        "outputId": "404bd0ed-c7de-47ff-9c7e-2cc0c61c7801"
      },
      "source": [
        "# Printing the confusion matrix (normalised)\n",
        "\n",
        "np.set_printoptions(precision = 2)\n",
        "fig2 = plt.figure(figsize = (7,6))\n",
        "plot_confusion_matrix(confusion__matrix,\n",
        "                      classes = np.unique(test_datagen.classes),\n",
        "                      normalise = True,\n",
        "                      title = 'Normalised Confusion matrix')\n",
        "fig2.savefig('/content/cm_norm.jpg')\n",
        "plt.show()"
      ],
      "execution_count": null,
      "outputs": [
        {
          "output_type": "display_data",
          "data": {
            "image/png": "[encoded data removed]",
            "text/plain": [
              "<Figure size 504x432 with 2 Axes>"
            ]
          },
          "metadata": {
            "tags": [],
            "needs_background": "light"
          }
        }
      ]
    }
  ]
}